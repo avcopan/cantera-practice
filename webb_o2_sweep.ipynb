{
 "cells": [
  {
   "cell_type": "code",
   "execution_count": 1,
   "metadata": {},
   "outputs": [],
   "source": [
    "import cantera as ct\n",
    "import matplotlib.pyplot as plt\n",
    "import polars\n",
    "\n",
    "from cantera_practice import reactors"
   ]
  },
  {
   "cell_type": "code",
   "execution_count": 2,
   "metadata": {},
   "outputs": [],
   "source": [
    "model = ct.Solution(\"data/webb_cyclopentane.yaml\")\n",
    "conc_df = polars.read_csv(\"data/webb_concentrations.csv\")"
   ]
  },
  {
   "cell_type": "code",
   "execution_count": 3,
   "metadata": {},
   "outputs": [],
   "source": [
    "temp = 825\n",
    "pres = 1.1 * ct.one_atm  # in atm.\n",
    "concs = conc_df.select(\"CPT(563)\", \"N2\", \"O2(6)\").rows(named=True)\n",
    "\n",
    "tau = 4  # s\n",
    "vol = 1 * (1e-2) ** 3  # m3"
   ]
  },
  {
   "cell_type": "code",
   "execution_count": 4,
   "metadata": {},
   "outputs": [],
   "source": [
    "# Create a SolutionArray to store values for the above points\n",
    "solns = ct.SolutionArray(model)"
   ]
  },
  {
   "cell_type": "code",
   "execution_count": 5,
   "metadata": {},
   "outputs": [
    {
     "name": "stdout",
     "output_type": "stream",
     "text": [
      "Starting simulation for {'CPT(563)': 0.005, 'N2': 0.9825, 'O2(6)': 0.0125}\n",
      "Starting simulation for {'CPT(563)': 0.005, 'N2': 0.97625, 'O2(6)': 0.01875}\n",
      "Starting simulation for {'CPT(563)': 0.005, 'N2': 0.973571429, 'O2(6)': 0.021428571}\n",
      "Starting simulation for {'CPT(563)': 0.005, 'N2': 0.97, 'O2(6)': 0.025}\n",
      "Starting simulation for {'CPT(563)': 0.005, 'N2': 0.965, 'O2(6)': 0.03}\n",
      "Starting simulation for {'CPT(563)': 0.005, 'N2': 0.960909091, 'O2(6)': 0.034090909}\n",
      "Starting simulation for {'CPT(563)': 0.005, 'N2': 0.9575, 'O2(6)': 0.0375}\n",
      "Starting simulation for {'CPT(563)': 0.005, 'N2': 0.953333333, 'O2(6)': 0.041666667}\n",
      "Starting simulation for {'CPT(563)': 0.005, 'N2': 0.945, 'O2(6)': 0.05}\n",
      "Starting simulation for {'CPT(563)': 0.005, 'N2': 0.937307692, 'O2(6)': 0.057692308}\n",
      "Starting simulation for {'CPT(563)': 0.005, 'N2': 0.9325, 'O2(6)': 0.0625}\n",
      "Starting simulation for {'CPT(563)': 0.005, 'N2': 0.926818182, 'O2(6)': 0.068181818}\n",
      "Starting simulation for {'CPT(563)': 0.005, 'N2': 0.92, 'O2(6)': 0.075}\n",
      "Starting simulation for {'CPT(563)': 0.005, 'N2': 0.911666667, 'O2(6)': 0.083333333}\n",
      "Starting simulation for {'CPT(563)': 0.005, 'N2': 0.90125, 'O2(6)': 0.09375}\n",
      "Starting simulation for {'CPT(563)': 0.005, 'N2': 0.887857143, 'O2(6)': 0.107142857}\n",
      "Starting simulation for {'CPT(563)': 0.005, 'N2': 0.874032258, 'O2(6)': 0.120967742}\n",
      "Starting simulation for {'CPT(563)': 0.005, 'N2': 0.861071429, 'O2(6)': 0.133928571}\n",
      "Starting simulation for {'CPT(563)': 0.005, 'N2': 0.845, 'O2(6)': 0.15}\n",
      "Starting simulation for {'CPT(563)': 0.005, 'N2': 0.831956522, 'O2(6)': 0.163043478}\n",
      "Starting simulation for {'CPT(563)': 0.005, 'N2': 0.8075, 'O2(6)': 0.1875}\n",
      "Starting simulation for {'CPT(563)': 0.005, 'N2': 0.797631579, 'O2(6)': 0.197368421}\n",
      "Starting simulation for {'CPT(563)': 0.005, 'N2': 0.774411765, 'O2(6)': 0.220588235}\n",
      "Starting simulation for {'CPT(563)': 0.005, 'N2': 0.745, 'O2(6)': 0.25}\n",
      "Starting simulation for {'CPT(563)': 0.005, 'N2': 0.706538462, 'O2(6)': 0.288461538}\n",
      "Starting simulation for {'CPT(563)': 0.005, 'N2': 0.654090909, 'O2(6)': 0.340909091}\n",
      "Starting simulation for {'CPT(563)': 0.005, 'N2': 0.62, 'O2(6)': 0.375}\n"
     ]
    }
   ],
   "source": [
    "for conc in concs:\n",
    "    print(f\"Starting simulation for {conc}\")\n",
    "    reactor = reactors.jsr(model=model, temp=temp, pres=pres, tau=tau, vol=vol, conc=conc)\n",
    "    solns.append(reactor.thermo.state)"
   ]
  },
  {
   "cell_type": "code",
   "execution_count": 6,
   "metadata": {},
   "outputs": [
    {
     "data": {
      "text/plain": [
       "<matplotlib.legend.Legend at 0x7f1507dfbe00>"
      ]
     },
     "execution_count": 6,
     "metadata": {},
     "output_type": "execute_result"
    },
    {
     "data": {
      "image/png": "[encoded data removed]",
      "text/plain": [
       "<Figure size 640x480 with 1 Axes>"
      ]
     },
     "metadata": {},
     "output_type": "display_data"
    }
   ],
   "source": [
    "plt.figure()\n",
    "plt.plot(\n",
    "    solns(\"O2(6)\").X * 9.782586051, solns(\"C5H8(522)\").X * 10**6, color=\"C0\", label=\"CPT\"\n",
    ")\n",
    "\n",
    "plt.xlabel(r\"O$_2$ (molecules cm$^{-3}$) $\\cdot 10^{18}$\")\n",
    "plt.ylabel(\"concentration (ppm)\")\n",
    "\n",
    "plt.legend(loc=1)"
   ]
  },
  {
   "cell_type": "code",
   "execution_count": 15,
   "metadata": {},
   "outputs": [
    {
     "data": {
      "text/html": [
       "<div><style>\n",
       ".dataframe > thead > tr,\n",
       ".dataframe > tbody > tr {\n",
       "  text-align: right;\n",
       "  white-space: pre-wrap;\n",
       "}\n",
       "</style>\n",
       "<small>shape: (27, 9)</small><table border=\"1\" class=\"dataframe\"><thead><tr><th>phi</th><th>Oxygen Concentration (molecules*cm^-3 *10^-18)</th><th>CPT(563)</th><th>N2</th><th>O2(6)</th><th>C5H8(522)</th><th>C5H8O(825)</th><th>C3H4O(165)</th><th>CH3CHO(41)</th></tr><tr><td>f64</td><td>f64</td><td>f64</td><td>f64</td><td>f64</td><td>f64</td><td>f64</td><td>f64</td><td>f64</td></tr></thead><tbody><tr><td>3.0</td><td>0.12233</td><td>0.002338</td><td>0.9825</td><td>0.00859</td><td>0.000479</td><td>0.000028</td><td>0.000345</td><td>0.000039</td></tr><tr><td>2.0</td><td>0.1835</td><td>0.001597</td><td>0.97625</td><td>0.012201</td><td>0.000463</td><td>0.000033</td><td>0.000319</td><td>0.000051</td></tr><tr><td>1.75</td><td>0.20962</td><td>0.001451</td><td>0.973571</td><td>0.014156</td><td>0.000461</td><td>0.000035</td><td>0.0003</td><td>0.00005</td></tr><tr><td>1.5</td><td>0.24456</td><td>0.001332</td><td>0.97</td><td>0.017066</td><td>0.000464</td><td>0.000036</td><td>0.000276</td><td>0.000048</td></tr><tr><td>1.25</td><td>0.29347</td><td>0.001243</td><td>0.965</td><td>0.021525</td><td>0.000477</td><td>0.000039</td><td>0.000247</td><td>0.000043</td></tr><tr><td>&hellip;</td><td>&hellip;</td><td>&hellip;</td><td>&hellip;</td><td>&hellip;</td><td>&hellip;</td><td>&hellip;</td><td>&hellip;</td><td>&hellip;</td></tr><tr><td>0.17</td><td>2.15785</td><td>0.001129</td><td>0.774412</td><td>0.212158</td><td>0.000669</td><td>0.000062</td><td>0.000072</td><td>0.000009</td></tr><tr><td>0.15</td><td>2.44557</td><td>0.001131</td><td>0.745</td><td>0.241601</td><td>0.000674</td><td>0.000063</td><td>0.000068</td><td>0.000008</td></tr><tr><td>0.13</td><td>2.75147</td><td>0.001134</td><td>0.706538</td><td>0.280083</td><td>0.00068</td><td>0.000064</td><td>0.000063</td><td>0.000007</td></tr><tr><td>0.11</td><td>3.33486</td><td>0.001137</td><td>0.654091</td><td>0.33253</td><td>0.000685</td><td>0.000064</td><td>0.000058</td><td>0.000006</td></tr><tr><td>0.1</td><td>3.66835</td><td>0.001138</td><td>0.62</td><td>0.366607</td><td>0.000687</td><td>0.000065</td><td>0.000056</td><td>0.000006</td></tr></tbody></table></div>"
      ],
      "text/plain": [
       "shape: (27, 9)\n",
       "┌──────┬──────────────┬──────────┬──────────┬───┬───────────┬────────────┬────────────┬────────────┐\n",
       "│ phi  ┆ Oxygen Conce ┆ CPT(563) ┆ N2       ┆ … ┆ C5H8(522) ┆ C5H8O(825) ┆ C3H4O(165) ┆ CH3CHO(41) │\n",
       "│ ---  ┆ ntration     ┆ ---      ┆ ---      ┆   ┆ ---       ┆ ---        ┆ ---        ┆ ---        │\n",
       "│ f64  ┆ (molecule…   ┆ f64      ┆ f64      ┆   ┆ f64       ┆ f64        ┆ f64        ┆ f64        │\n",
       "│      ┆ ---          ┆          ┆          ┆   ┆           ┆            ┆            ┆            │\n",
       "│      ┆ f64          ┆          ┆          ┆   ┆           ┆            ┆            ┆            │\n",
       "╞══════╪══════════════╪══════════╪══════════╪═══╪═══════════╪════════════╪════════════╪════════════╡\n",
       "│ 3.0  ┆ 0.12233      ┆ 0.002338 ┆ 0.9825   ┆ … ┆ 0.000479  ┆ 0.000028   ┆ 0.000345   ┆ 0.000039   │\n",
       "│ 2.0  ┆ 0.1835       ┆ 0.001597 ┆ 0.97625  ┆ … ┆ 0.000463  ┆ 0.000033   ┆ 0.000319   ┆ 0.000051   │\n",
       "│ 1.75 ┆ 0.20962      ┆ 0.001451 ┆ 0.973571 ┆ … ┆ 0.000461  ┆ 0.000035   ┆ 0.0003     ┆ 0.00005    │\n",
       "│ 1.5  ┆ 0.24456      ┆ 0.001332 ┆ 0.97     ┆ … ┆ 0.000464  ┆ 0.000036   ┆ 0.000276   ┆ 0.000048   │\n",
       "│ 1.25 ┆ 0.29347      ┆ 0.001243 ┆ 0.965    ┆ … ┆ 0.000477  ┆ 0.000039   ┆ 0.000247   ┆ 0.000043   │\n",
       "│ …    ┆ …            ┆ …        ┆ …        ┆ … ┆ …         ┆ …          ┆ …          ┆ …          │\n",
       "│ 0.17 ┆ 2.15785      ┆ 0.001129 ┆ 0.774412 ┆ … ┆ 0.000669  ┆ 0.000062   ┆ 0.000072   ┆ 0.000009   │\n",
       "│ 0.15 ┆ 2.44557      ┆ 0.001131 ┆ 0.745    ┆ … ┆ 0.000674  ┆ 0.000063   ┆ 0.000068   ┆ 0.000008   │\n",
       "│ 0.13 ┆ 2.75147      ┆ 0.001134 ┆ 0.706538 ┆ … ┆ 0.00068   ┆ 0.000064   ┆ 0.000063   ┆ 0.000007   │\n",
       "│ 0.11 ┆ 3.33486      ┆ 0.001137 ┆ 0.654091 ┆ … ┆ 0.000685  ┆ 0.000064   ┆ 0.000058   ┆ 0.000006   │\n",
       "│ 0.1  ┆ 3.66835      ┆ 0.001138 ┆ 0.62     ┆ … ┆ 0.000687  ┆ 0.000065   ┆ 0.000056   ┆ 0.000006   │\n",
       "└──────┴──────────────┴──────────┴──────────┴───┴───────────┴────────────┴────────────┴────────────┘"
      ]
     },
     "execution_count": 15,
     "metadata": {},
     "output_type": "execute_result"
    }
   ],
   "source": [
    "species_names = [\n",
    "    \"O2(6)\",        # oxygen\n",
    "    \"CPT(563)\",     # cyclopentane\n",
    "    \"C5H8(522)\",    # cyclopentene\n",
    "    \"C5H8O(825)\",   # 1,2-epoxycyclopentane\n",
    "    \"C3H4O(165)\",   # acrolein\n",
    "    \"CH3CHO(41)\",   # acetaldehyde\n",
    "]\n",
    "conc_df = conc_df.with_columns(*(polars.Series(n, solns(n).X.flatten()) for n in species_names))\n",
    "conc_df.write_csv(\"data/webb_reference.csv\")\n",
    "conc_df"
   ]
  },
  {
   "cell_type": "code",
   "execution_count": null,
   "metadata": {},
   "outputs": [],
   "source": []
  }
 ],
 "metadata": {
  "kernelspec": {
   "display_name": "default",
   "language": "python",
   "name": "python3"
  },
  "language_info": {
   "codemirror_mode": {
    "name": "ipython",
    "version": 3
   },
   "file_extension": ".py",
   "mimetype": "text/x-python",
   "name": "python",
   "nbconvert_exporter": "python",
   "pygments_lexer": "ipython3",
   "version": "3.13.1"
  }
 },
 "nbformat": 4,
 "nbformat_minor": 2
}
